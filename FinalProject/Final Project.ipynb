{
 "cells": [
  {
   "cell_type": "code",
   "execution_count": 1,
   "metadata": {},
   "outputs": [],
   "source": [
    "import pandas as pd\n",
    "import numpy as np\n",
    "import matplotlib.pyplot as plt\n",
    "import seaborn as sns\n",
    "from sklearn.preprocessing import StandardScaler\n",
    "from sklearn.decomposition import PCA\n",
    "\n",
    "cancer_file = open( \"cancer.txt\", \"r\" )"
   ]
  },
  {
   "cell_type": "code",
   "execution_count": 2,
   "metadata": {},
   "outputs": [],
   "source": [
    "#Load dataset into Pandas DataFrame with column names as array in names\n",
    "df = pd.read_csv( cancer_file, names = ['Accession no.', 'AAQ08976.1', 'AF304370.1', 'AF338650.1', \n",
    "                                        'AF455138.1', 'AY008445.1', 'FJ649644.1', 'NP001035756.1', 'NP001231873.1'])"
   ]
  },
  {
   "cell_type": "code",
   "execution_count": 3,
   "metadata": {},
   "outputs": [],
   "source": [
    "#Add in labels\n",
    "features = ['Accession no.', 'AAQ08976.1', 'AF304370.1', 'AF338650.1',\n",
    "'AF455138.1', 'AY008445.1', 'FJ649644.1', 'NP001035756.1', 'NP001231873.1']\n",
    "\n",
    "#Separating out features\n",
    "x = df.loc[:,features].values\n",
    "\n",
    "#Separating out target\n",
    "y = df.loc[:,['Accession no.']].values"
   ]
  },
  {
   "cell_type": "code",
   "execution_count": 4,
   "metadata": {},
   "outputs": [
    {
     "name": "stderr",
     "output_type": "stream",
     "text": [
      "C:\\Users\\inoct\\Anaconda3\\lib\\site-packages\\sklearn\\utils\\validation.py:475: DataConversionWarning: Data with input dtype object was converted to float64 by StandardScaler.\n",
      "  warnings.warn(msg, DataConversionWarning)\n",
      "C:\\Users\\inoct\\Anaconda3\\lib\\site-packages\\sklearn\\utils\\validation.py:475: DataConversionWarning: Data with input dtype object was converted to float64 by StandardScaler.\n",
      "  warnings.warn(msg, DataConversionWarning)\n"
     ]
    }
   ],
   "source": [
    "x_stand = StandardScaler().fit_transform( x[:,1:] )"
   ]
  },
  {
   "cell_type": "code",
   "execution_count": 5,
   "metadata": {},
   "outputs": [],
   "source": [
    "cancer_pca = PCA( n_components=2 )\n",
    "principalComponents = cancer_pca.fit_transform(x_stand)\n",
    "\n",
    "#print( principalComponents )\n",
    "principalDf = pd.DataFrame( data = principalComponents,\n",
    "                          columns = ['Principal Component 1', 'Principal Component 2'])"
   ]
  },
  {
   "cell_type": "code",
   "execution_count": 6,
   "metadata": {},
   "outputs": [],
   "source": [
    "finalDf = pd.concat( [principalDf, df[['Accession no.']]], axis = 1 )"
   ]
  },
  {
   "cell_type": "markdown",
   "metadata": {},
   "source": [
    "Visualizing the Projection"
   ]
  },
  {
   "cell_type": "code",
   "execution_count": 7,
   "metadata": {},
   "outputs": [
    {
     "data": {
      "text/plain": [
       "<seaborn.axisgrid.FacetGrid at 0x1f54189efd0>"
      ]
     },
     "execution_count": 7,
     "metadata": {},
     "output_type": "execute_result"
    },
    {
     "data": {
      "image/png": "[encoded data removed]",
      "text/plain": [
       "<Figure size 360x360 with 1 Axes>"
      ]
     },
     "metadata": {
      "needs_background": "light"
     },
     "output_type": "display_data"
    }
   ],
   "source": [
    "#How-To: https://chrisalbon.com/python/data_wrangling/pandas_with_seaborn/\n",
    "sns.lmplot( 'Principal Component 1', 'Principal Component 2', data = finalDf, fit_reg = False )\n",
    "#print( finalDf )"
   ]
  },
  {
   "cell_type": "code",
   "execution_count": 8,
   "metadata": {},
   "outputs": [
    {
     "data": {
      "text/plain": [
       "\"\\nfig = plt.figure( figsize = (10,10) )    #set size of the pixels\\nax = fig.add_subplot(1,1,1)\\nax.set_xlabel( 'Principal Component 1', fontsize = 15)\\nax.set_ylabel( 'Principal Component 2', fontsize = 15)\\nax.set_title( 'Cancer vs Normal Cells', fontsize = 20 )\\n\\ncolors = ['red','magenta','yellow','green','darkgreen','cyan','blue','black']\\n\\nfor feature, color in zip( features, colors ):\\n    indicesToKeep = finalDf['Accession no.'] == feature\\n    ax.scatter( finalDf.loc[indicesToKeep, 'Principal Component 1']\\n              , finalDf.loc[indicesToKeep, 'Principal Component 2']\\n              , c = color, s = 50 )\\nax.legend(features)\\nax.grid()\\nplt.show()\\n\""
      ]
     },
     "execution_count": 8,
     "metadata": {},
     "output_type": "execute_result"
    }
   ],
   "source": [
    "# This was the data using matplotlib and the tutorial's techniques.\n",
    "'''\n",
    "fig = plt.figure( figsize = (10,10) )    #set size of the pixels\n",
    "ax = fig.add_subplot(1,1,1)\n",
    "ax.set_xlabel( 'Principal Component 1', fontsize = 15)\n",
    "ax.set_ylabel( 'Principal Component 2', fontsize = 15)\n",
    "ax.set_title( 'Cancer vs Normal Cells', fontsize = 20 )\n",
    "\n",
    "colors = ['red','magenta','yellow','green','darkgreen','cyan','blue','black']\n",
    "\n",
    "for feature, color in zip( features, colors ):\n",
    "    indicesToKeep = finalDf['Accession no.'] == feature\n",
    "    ax.scatter( finalDf.loc[indicesToKeep, 'Principal Component 1']\n",
    "              , finalDf.loc[indicesToKeep, 'Principal Component 2']\n",
    "              , c = color, s = 50 )\n",
    "ax.legend(features)\n",
    "ax.grid()\n",
    "plt.show()\n",
    "'''"
   ]
  }
 ],
 "metadata": {
  "kernelspec": {
   "display_name": "Python 3",
   "language": "python",
   "name": "python3"
  },
  "language_info": {
   "codemirror_mode": {
    "name": "ipython",
    "version": 3
   },
   "file_extension": ".py",
   "mimetype": "text/x-python",
   "name": "python",
   "nbconvert_exporter": "python",
   "pygments_lexer": "ipython3",
   "version": "3.7.0"
  }
 },
 "nbformat": 4,
 "nbformat_minor": 2
}
